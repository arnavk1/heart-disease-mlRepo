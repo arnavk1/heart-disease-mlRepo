{
 "cells": [
  {
   "cell_type": "code",
   "execution_count": 1,
   "id": "167f5ed4",
   "metadata": {},
   "outputs": [],
   "source": [
    "\n",
    "from joblib import dump, load\n",
    "model = load('Heart.joblib')"
   ]
  },
  {
   "cell_type": "markdown",
   "id": "b6373321",
   "metadata": {},
   "source": [
    "### Predictive System"
   ]
  },
  {
   "cell_type": "markdown",
   "id": "594a4ea5",
   "metadata": {},
   "source": [
    "Taking random data from data file to check if prediction of the result is accurate or not.\n",
    "Example--->1. 58,0,3,150,283,1,0,162,0,1,2,0,2   --o/p-->  1\n",
    "           \n",
    "              2. 61,1,0,120,260,0,1,140,1,3.6,1,1,3 --o/p--> 0"
   ]
  },
  {
   "cell_type": "code",
   "execution_count": 2,
   "id": "fdc5c623",
   "metadata": {},
   "outputs": [],
   "source": [
    "#data_provided = (58,0,3,150,283,1,0,162,0,1,2,0,2)\n",
    "data_provided = (61,1,0,120,260,0,1,140,1,3.6,1,1,3)"
   ]
  },
  {
   "cell_type": "code",
   "execution_count": 3,
   "id": "680c5873",
   "metadata": {},
   "outputs": [
    {
     "ename": "NameError",
     "evalue": "name 'np' is not defined",
     "output_type": "error",
     "traceback": [
      "\u001b[1;31m---------------------------------------------------------------------------\u001b[0m",
      "\u001b[1;31mNameError\u001b[0m                                 Traceback (most recent call last)",
      "\u001b[1;32m~\\AppData\\Local\\Temp/ipykernel_16932/1293733815.py\u001b[0m in \u001b[0;36m<module>\u001b[1;34m\u001b[0m\n\u001b[1;32m----> 1\u001b[1;33m \u001b[0mdata_provided_as_np_arr\u001b[0m \u001b[1;33m=\u001b[0m \u001b[0mnp\u001b[0m\u001b[1;33m.\u001b[0m\u001b[0masarray\u001b[0m\u001b[1;33m(\u001b[0m\u001b[0mdata_provided\u001b[0m\u001b[1;33m)\u001b[0m\u001b[1;33m\u001b[0m\u001b[1;33m\u001b[0m\u001b[0m\n\u001b[0m",
      "\u001b[1;31mNameError\u001b[0m: name 'np' is not defined"
     ]
    }
   ],
   "source": [
    "data_provided_as_np_arr = np.asarray(data_provided)"
   ]
  },
  {
   "cell_type": "code",
   "execution_count": null,
   "id": "e66b9039",
   "metadata": {},
   "outputs": [],
   "source": [
    "reshaped_provided_data = data_provided_as_np_arr.reshape(1,-1)"
   ]
  },
  {
   "cell_type": "code",
   "execution_count": null,
   "id": "c0d78780",
   "metadata": {},
   "outputs": [],
   "source": [
    "prediction = model.predict(reshaped_provided_data)\n",
    "\n",
    "prediction"
   ]
  },
  {
   "cell_type": "code",
   "execution_count": null,
   "id": "5d45f837",
   "metadata": {},
   "outputs": [],
   "source": [
    "if(prediction[0] == 0):\n",
    "    print('Person is Healthy')\n",
    "else:\n",
    "    print('Person has Heart Disease')"
   ]
  }
 ],
 "metadata": {
  "kernelspec": {
   "display_name": "Python 3 (ipykernel)",
   "language": "python",
   "name": "python3"
  },
  "language_info": {
   "codemirror_mode": {
    "name": "ipython",
    "version": 3
   },
   "file_extension": ".py",
   "mimetype": "text/x-python",
   "name": "python",
   "nbconvert_exporter": "python",
   "pygments_lexer": "ipython3",
   "version": "3.9.7"
  }
 },
 "nbformat": 4,
 "nbformat_minor": 5
}
